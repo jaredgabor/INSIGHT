{
 "cells": [
  {
   "cell_type": "markdown",
   "metadata": {},
   "source": [
    "Notes by JMG: \n",
    "This is modified to try to save a database on an external hard drive.\n",
    "\n",
    "Quick summary for Mac OSX installations.\n",
    "- Install PostgresSQL binary from the Postgresql website, into the Applications folder.\n",
    "- To start the PostgreSQL server, just double-click the application's icon\n",
    "  - This should cause a little elephant to appear in the menu bar at the top of your screen\n",
    "- You can change the data directory using the GUI that pops up\n",
    "- The config files are in ~/Library/Application Support/... \n",
    "\n",
    "To create a database cluster on another hard drive (e.g. external drive):\n",
    "- create a new, empty directory on the external drive (e.g. \"Data/SQL/\")\n",
    "- run \"initdb -D /Volumes/my_harddrive/Data/SQL/\" to create the new db cluster\n",
    "  - This will create a bunch of config files and stuff in this new directory\n",
    "- use pg_ctl to start and stop the PostgreSQL server in this directory:\n",
    "  \"pg_ctl -D /Volumes/MYPASSPORT/Data/SQL/ -l logfile start\"\n",
    "  - \"-D\" is used to specify the data directory\n",
    "  - \"-l logfile\" tells the server to write a log file called \"logfile\"\n",
    "  - I think this command can be issued from any directory, but I'm not sure\n",
    "  - \"start\" indicates that we want to start running the server\n",
    "- connect to the server with \"psql -d postgres\"\n",
    "  - here, 'postgres' is actually the name of the first, default database created when\n",
    "    running the initdb command above.  See the first comment in here: \n",
    "    https://wiki.postgresql.org/wiki/First_steps for an explanation\n",
    "    ...We could have avoided the need for \"-d postgres\" if we had used the option \n",
    "    \"-U jgabor\" when we had called \"initdb\" above.\n",
    "  - an alternative might be to login using \"sudo su postgres\" then issue \"psql\" alone,\n",
    "    which should log you in as the superuser.  From there you can can list all users with\n",
    "    \"\\du\" and maybe create/destroy users/databases\n",
    "- quit your connection to a given database with \"\\q\"\n",
    "- create a new database with \"createdb my_database\"\n",
    "  - you can then connect to this database with \"psql -d my_database\" as above\n",
    "- Shut down the server with\n",
    "  \"pg_ctl -D /Volumes/MYPASSPORT/Data/SQL/ stop\"\n",
    "  - You can add options to the stop command with \"-m [s, f, l]\" where s, f, and l are short\n",
    "    for \"smart\", \"fast\", and \"immediate\"\n",
    "    \n",
    "   \n",
    "\n",
    "    \n",
    "  \n",
    "\n",
    "End Notes by JMG\n",
    "\n",
    "# Dev Setups -- Connecting Python and SQL\n",
    "\n",
    "The purpose of this ipython notebook is to demonstrate the usefulness of connecting python to a relational database  by using a python toolkit called SQLAlchemy. This tutorial follows the previous document, *** Python and SciPy stack ***"
   ]
  },
  {
   "cell_type": "markdown",
   "metadata": {},
   "source": [
    "***First off, what is a relational database?***\n",
    "\n",
    "Basically, it is a way to store information such that information can be retrieved from it.\n",
    "\n",
    "MySQL and PostgreSQL are examples of relational databases.  For the purposes of an Insight project, you can use either one.\n",
    "\n",
    "\n",
    "Why would you use a relational database instead of a csv or two?\n",
    "\n",
    "**A few reasons:**\n",
    "\n",
    "- They scale easily\n",
    "\n",
    "-  They are easy to query\n",
    "\n",
    "- It’s possible to do transactions in those cases where you need to write to a database, not just read from it\n",
    "\n",
    "- Everyone in industry uses them, so you should get familiar with them, too.\n",
    "\n",
    "\n",
    "\n",
    "\n"
   ]
  },
  {
   "cell_type": "markdown",
   "metadata": {},
   "source": [
    "***What does a relational database look like? ***\n",
    "\n",
    "We can take a look.  First we need to set up a few things. The first thing we want to do is to get a PostgreSQL server up and running.  Go to `http://postgresapp.com/` and follow the three steps listed in the Quick Installation Guide. (If you aren't running a Mac, you can download PostgreSQL at http://www.postgresql.org/) \n",
    "    -- you can also use homebrew, but your path will change below --\n",
    "\n",
    "We'll come back to PostgreSQL in a moment.  First, we'll set up SQLAlchemy.  Go ahead and try to implement the following."
   ]
  },
  {
   "cell_type": "code",
   "execution_count": 2,
   "metadata": {
    "collapsed": false
   },
   "outputs": [],
   "source": [
    "## Python packages - you may have to pip install sqlalchemy, sqlalchemy_utils, and psycopg2.\n",
    "from sqlalchemy import create_engine\n",
    "from sqlalchemy_utils import database_exists, create_database\n",
    "import psycopg2\n",
    "import pandas as pd"
   ]
  },
  {
   "cell_type": "markdown",
   "metadata": {},
   "source": [
    "**Note:  if you have trouble installing psycopg2 and are getting a \"pg_config executable not found\" error, try adding \"/Applications/Postgres.app/Contents/Versions/9.4/bin\" to your PATH by typing the following in your terminal (make sure the version is actually 9.4):**\n",
    "\n",
    "\n",
    "```export PATH=\"/Applications/Postgres.app/Contents/Versions/9.4/bin:$PATH\"```\n",
    "\n",
    "**Then try installing again:**\n",
    "\n",
    "```pip install psycopg2```\n"
   ]
  },
  {
   "cell_type": "markdown",
   "metadata": {},
   "source": [
    "To have launchd start postgresql at login: <br>\n",
    "```ln -sfv /usr/local/opt/postgresql/*.plist ~/Library/LaunchAgents``` <br>\n",
    "Then to load postgresql now: <br>\n",
    "```launchctl load ~/Library/LaunchAgents/homebrew.mxcl.postgresql.plist``` <br>\n",
    "Or, if you don't want/need launchctl, you can just run: <br>\n",
    "```postgres -D /usr/local/var/postgres``` <br>\n",
    "into the command line and also look at [this page](http://postgresguide.com/) for more detail\n",
    "\n",
    "then \n",
    "```createdb```\n",
    "\n",
    "at the terminal allows you to start to add a database to postgreSQL. \n"
   ]
  },
  {
   "cell_type": "code",
   "execution_count": 3,
   "metadata": {
    "collapsed": false
   },
   "outputs": [],
   "source": [
    "#In Python: Define a database name (we're using a dataset on births, so I call it \n",
    "# birth_db), and your username for your computer (CHANGE IT BELOW). \n",
    "dbname = 'taxi'\n",
    "username = 'jgabor'"
   ]
  },
  {
   "cell_type": "markdown",
   "metadata": {},
   "source": [
    "You need to start your postgresql server. Try this:\n",
    "\n",
    "```postgres -D /usr/local/var/postgres```"
   ]
  },
  {
   "cell_type": "code",
   "execution_count": 8,
   "metadata": {
    "collapsed": false
   },
   "outputs": [
    {
     "name": "stdout",
     "output_type": "stream",
     "text": [
      "postgresql://jgabor@localhost/taxi\n"
     ]
    }
   ],
   "source": [
    "## 'engine' is a connection to a database\n",
    "## Here, we're using postgres, but sqlalchemy can connect to other things too.\n",
    "#engine = create_engine('postgres://%s@localhost/%s'%(username,dbname))\n",
    "engine = create_engine('postgresql://%s@localhost/%s'%(username,dbname))\n",
    "print engine.url"
   ]
  },
  {
   "cell_type": "code",
   "execution_count": 9,
   "metadata": {
    "collapsed": false
   },
   "outputs": [
    {
     "name": "stdout",
     "output_type": "stream",
     "text": [
      "True\n"
     ]
    }
   ],
   "source": [
    "print database_exists(engine.url)"
   ]
  },
  {
   "cell_type": "code",
   "execution_count": 10,
   "metadata": {
    "collapsed": false
   },
   "outputs": [
    {
     "name": "stdout",
     "output_type": "stream",
     "text": [
      "True\n"
     ]
    }
   ],
   "source": [
    "## create a database (if it doesn't exist)\n",
    "if not database_exists(engine.url):\n",
    "    print \"Creating Database\"\n",
    "    create_database(engine.url)\n",
    "print(database_exists(engine.url))\n"
   ]
  },
  {
   "cell_type": "code",
   "execution_count": null,
   "metadata": {
    "collapsed": true
   },
   "outputs": [],
   "source": [
    "# load a database from CSV\n",
    "import zipfile\n",
    "dir = \"/Volumes/MYPASSPORT/Data/\"\n",
    "filebase = 'trip_fare_1.csv'\n",
    "file = dir + filebase\n",
    "file_zipped = file + '.zip'\n",
    "zz = zipfile.ZipFile(file_zipped)\n",
    "taxi_data = pd.read_csv(zz.open(filebase), nrows=100)"
   ]
  },
  {
   "cell_type": "code",
   "execution_count": 31,
   "metadata": {
    "collapsed": false
   },
   "outputs": [],
   "source": [
    "# Clean up some stuff\n",
    "taxi_data.columns = taxi_data.columns.str.strip()  # Strip whitespace from colnames\n",
    "# Convert pickup times to datetime objects\n",
    "taxi_data['pickup_datetime'] = pd.to_datetime(taxi_data['pickup_datetime'])"
   ]
  },
  {
   "cell_type": "code",
   "execution_count": 33,
   "metadata": {
    "collapsed": false
   },
   "outputs": [],
   "source": [
    "# Split up the taxi data just for proof-of-concept\n",
    "#\n",
    "df1 = taxi_data[0:10]\n",
    "df2 = taxi_data[-10:]"
   ]
  },
  {
   "cell_type": "code",
   "execution_count": 34,
   "metadata": {
    "collapsed": false
   },
   "outputs": [],
   "source": [
    "## insert data into database from Python (proof of concept - this won't be useful for big data, of course)\n",
    "## df is any pandas dataframe \n",
    "df1.to_sql('taxi_test', engine, if_exists='replace')"
   ]
  },
  {
   "cell_type": "code",
   "execution_count": 35,
   "metadata": {
    "collapsed": false
   },
   "outputs": [],
   "source": [
    "## insert data into database from Python (proof of concept - this won't be useful for big data, of course)\n",
    "## df is any pandas dataframe \n",
    "df2.to_sql('taxi_test', engine, if_exists='append')"
   ]
  },
  {
   "cell_type": "markdown",
   "metadata": {},
   "source": [
    "The above line (to_sql) is doing a lot of heavy lifting.  It's reading a dataframe, it's creating a table, and adding the data to the table.  So ** SQLAlchemy is quite useful! **"
   ]
  },
  {
   "cell_type": "markdown",
   "metadata": {},
   "source": [
    "### How this works outside of python:\n",
    "\n",
    "** open up the PostgreSQL app, click on the \"Open psql\" button in the bottom right corner, ** <br>\n",
    "or alternatively type <br>\n",
    "```psql -h localhost``` <br> \n",
    "into the command line  "
   ]
  },
  {
   "cell_type": "markdown",
   "metadata": {},
   "source": [
    "**Type the following into the terminal that opens up**\n",
    "\n",
    "`\\c birth_db`\n",
    "\n",
    "**You should see something like the following**\n",
    "\n",
    "`You are now connected to database \"birth_db\" as user \"wafasoofi\".`\n",
    "\n",
    "\n",
    "\n",
    "**Then try the following query:**\n",
    "\n",
    "`SELECT * FROM birth_data_table;`"
   ]
  },
  {
   "cell_type": "markdown",
   "metadata": {},
   "source": [
    "### You can see the table we created!  But it's kinda ugly and hard to read."
   ]
  },
  {
   "cell_type": "markdown",
   "metadata": {},
   "source": [
    "**Try a few other sample queries.  Before you type in each one, ask yourself what you think the output will look like:**\n",
    "\n",
    "`SELECT * FROM birth_data_table WHERE infant_sex='M';`\n",
    "\n",
    "`SELECT COUNT(infant_sex) FROM birth_data_table WHERE infant_sex='M';`\n",
    "\n",
    "`SELECT COUNT(gestation_weeks), infant_sex FROM birth_data_table WHERE infant_sex = 'M' GROUP BY gestation_weeks, infant_sex;`\n",
    "\n",
    "`SELECT gestation_weeks, COUNT(gestation_weeks) FROM birth_data_table WHERE infant_sex = 'M' GROUP BY gestation_weeks;`"
   ]
  },
  {
   "cell_type": "code",
   "execution_count": 36,
   "metadata": {
    "collapsed": false
   },
   "outputs": [
    {
     "data": {
      "text/html": [
       "<div>\n",
       "<table border=\"1\" class=\"dataframe\">\n",
       "  <thead>\n",
       "    <tr style=\"text-align: right;\">\n",
       "      <th></th>\n",
       "      <th>index</th>\n",
       "      <th>medallion</th>\n",
       "      <th>hack_license</th>\n",
       "      <th>vendor_id</th>\n",
       "      <th>pickup_datetime</th>\n",
       "      <th>payment_type</th>\n",
       "      <th>fare_amount</th>\n",
       "      <th>surcharge</th>\n",
       "      <th>mta_tax</th>\n",
       "      <th>tip_amount</th>\n",
       "      <th>tolls_amount</th>\n",
       "      <th>total_amount</th>\n",
       "    </tr>\n",
       "  </thead>\n",
       "  <tbody>\n",
       "    <tr>\n",
       "      <th>0</th>\n",
       "      <td>7</td>\n",
       "      <td>0B57B9633A2FECD3D3B1944AFC7471CF</td>\n",
       "      <td>CCD4367B417ED6634D986F573A552A62</td>\n",
       "      <td>CMT</td>\n",
       "      <td>2013-01-07 12:39:18</td>\n",
       "      <td>CSH</td>\n",
       "      <td>34</td>\n",
       "      <td>0</td>\n",
       "      <td>0.5</td>\n",
       "      <td>0</td>\n",
       "      <td>4.8</td>\n",
       "      <td>39.3</td>\n",
       "    </tr>\n",
       "    <tr>\n",
       "      <th>1</th>\n",
       "      <td>9</td>\n",
       "      <td>2D4B95E2FA7B2E85118EC5CA4570FA58</td>\n",
       "      <td>CD2F522EEE1FF5F5A8D8B679E23576B3</td>\n",
       "      <td>CMT</td>\n",
       "      <td>2013-01-07 15:33:28</td>\n",
       "      <td>CSH</td>\n",
       "      <td>13</td>\n",
       "      <td>0</td>\n",
       "      <td>0.5</td>\n",
       "      <td>0</td>\n",
       "      <td>0.0</td>\n",
       "      <td>13.5</td>\n",
       "    </tr>\n",
       "    <tr>\n",
       "      <th>2</th>\n",
       "      <td>7</td>\n",
       "      <td>0B57B9633A2FECD3D3B1944AFC7471CF</td>\n",
       "      <td>CCD4367B417ED6634D986F573A552A62</td>\n",
       "      <td>CMT</td>\n",
       "      <td>2013-01-07 12:39:18</td>\n",
       "      <td>CSH</td>\n",
       "      <td>34</td>\n",
       "      <td>0</td>\n",
       "      <td>0.5</td>\n",
       "      <td>0</td>\n",
       "      <td>4.8</td>\n",
       "      <td>39.3</td>\n",
       "    </tr>\n",
       "    <tr>\n",
       "      <th>3</th>\n",
       "      <td>9</td>\n",
       "      <td>2D4B95E2FA7B2E85118EC5CA4570FA58</td>\n",
       "      <td>CD2F522EEE1FF5F5A8D8B679E23576B3</td>\n",
       "      <td>CMT</td>\n",
       "      <td>2013-01-07 15:33:28</td>\n",
       "      <td>CSH</td>\n",
       "      <td>13</td>\n",
       "      <td>0</td>\n",
       "      <td>0.5</td>\n",
       "      <td>0</td>\n",
       "      <td>0.0</td>\n",
       "      <td>13.5</td>\n",
       "    </tr>\n",
       "  </tbody>\n",
       "</table>\n",
       "</div>"
      ],
      "text/plain": [
       "   index                         medallion                      hack_license  \\\n",
       "0      7  0B57B9633A2FECD3D3B1944AFC7471CF  CCD4367B417ED6634D986F573A552A62   \n",
       "1      9  2D4B95E2FA7B2E85118EC5CA4570FA58  CD2F522EEE1FF5F5A8D8B679E23576B3   \n",
       "2      7  0B57B9633A2FECD3D3B1944AFC7471CF  CCD4367B417ED6634D986F573A552A62   \n",
       "3      9  2D4B95E2FA7B2E85118EC5CA4570FA58  CD2F522EEE1FF5F5A8D8B679E23576B3   \n",
       "\n",
       "  vendor_id     pickup_datetime payment_type  fare_amount  surcharge  mta_tax  \\\n",
       "0       CMT 2013-01-07 12:39:18          CSH           34          0      0.5   \n",
       "1       CMT 2013-01-07 15:33:28          CSH           13          0      0.5   \n",
       "2       CMT 2013-01-07 12:39:18          CSH           34          0      0.5   \n",
       "3       CMT 2013-01-07 15:33:28          CSH           13          0      0.5   \n",
       "\n",
       "   tip_amount  tolls_amount  total_amount  \n",
       "0           0           4.8          39.3  \n",
       "1           0           0.0          13.5  \n",
       "2           0           4.8          39.3  \n",
       "3           0           0.0          13.5  "
      ]
     },
     "execution_count": 36,
     "metadata": {},
     "output_type": "execute_result"
    }
   ],
   "source": [
    "## Now try the same queries, but in python!\n",
    "\n",
    "# connect:\n",
    "con = None\n",
    "con = psycopg2.connect(database = dbname, user = username)\n",
    "\n",
    "# query:\n",
    "sql_query = \"\"\"\n",
    "SELECT * FROM taxi_test WHERE fare_amount > 10;\n",
    "\"\"\"\n",
    "subdat = pd.read_sql_query(sql_query,con)\n",
    "\n",
    "subdat.head()"
   ]
  },
  {
   "cell_type": "markdown",
   "metadata": {},
   "source": [
    "### Is one method of querying the data faster than the other?  Probably not for the amount of data you can fit on your machine."
   ]
  },
  {
   "cell_type": "code",
   "execution_count": 37,
   "metadata": {
    "collapsed": false
   },
   "outputs": [
    {
     "name": "stdout",
     "output_type": "stream",
     "text": [
      "0.00330686569214\n"
     ]
    },
    {
     "data": {
      "text/html": [
       "<div>\n",
       "<table border=\"1\" class=\"dataframe\">\n",
       "  <thead>\n",
       "    <tr style=\"text-align: right;\">\n",
       "      <th></th>\n",
       "      <th>index</th>\n",
       "      <th>medallion</th>\n",
       "      <th>hack_license</th>\n",
       "      <th>vendor_id</th>\n",
       "      <th>pickup_datetime</th>\n",
       "      <th>payment_type</th>\n",
       "      <th>fare_amount</th>\n",
       "      <th>surcharge</th>\n",
       "      <th>mta_tax</th>\n",
       "      <th>tip_amount</th>\n",
       "      <th>tolls_amount</th>\n",
       "      <th>total_amount</th>\n",
       "    </tr>\n",
       "  </thead>\n",
       "  <tbody>\n",
       "    <tr>\n",
       "      <th>0</th>\n",
       "      <td>7</td>\n",
       "      <td>0B57B9633A2FECD3D3B1944AFC7471CF</td>\n",
       "      <td>CCD4367B417ED6634D986F573A552A62</td>\n",
       "      <td>CMT</td>\n",
       "      <td>2013-01-07 12:39:18</td>\n",
       "      <td>CSH</td>\n",
       "      <td>34</td>\n",
       "      <td>0</td>\n",
       "      <td>0.5</td>\n",
       "      <td>0</td>\n",
       "      <td>4.8</td>\n",
       "      <td>39.3</td>\n",
       "    </tr>\n",
       "    <tr>\n",
       "      <th>1</th>\n",
       "      <td>9</td>\n",
       "      <td>2D4B95E2FA7B2E85118EC5CA4570FA58</td>\n",
       "      <td>CD2F522EEE1FF5F5A8D8B679E23576B3</td>\n",
       "      <td>CMT</td>\n",
       "      <td>2013-01-07 15:33:28</td>\n",
       "      <td>CSH</td>\n",
       "      <td>13</td>\n",
       "      <td>0</td>\n",
       "      <td>0.5</td>\n",
       "      <td>0</td>\n",
       "      <td>0.0</td>\n",
       "      <td>13.5</td>\n",
       "    </tr>\n",
       "    <tr>\n",
       "      <th>2</th>\n",
       "      <td>7</td>\n",
       "      <td>0B57B9633A2FECD3D3B1944AFC7471CF</td>\n",
       "      <td>CCD4367B417ED6634D986F573A552A62</td>\n",
       "      <td>CMT</td>\n",
       "      <td>2013-01-07 12:39:18</td>\n",
       "      <td>CSH</td>\n",
       "      <td>34</td>\n",
       "      <td>0</td>\n",
       "      <td>0.5</td>\n",
       "      <td>0</td>\n",
       "      <td>4.8</td>\n",
       "      <td>39.3</td>\n",
       "    </tr>\n",
       "    <tr>\n",
       "      <th>3</th>\n",
       "      <td>9</td>\n",
       "      <td>2D4B95E2FA7B2E85118EC5CA4570FA58</td>\n",
       "      <td>CD2F522EEE1FF5F5A8D8B679E23576B3</td>\n",
       "      <td>CMT</td>\n",
       "      <td>2013-01-07 15:33:28</td>\n",
       "      <td>CSH</td>\n",
       "      <td>13</td>\n",
       "      <td>0</td>\n",
       "      <td>0.5</td>\n",
       "      <td>0</td>\n",
       "      <td>0.0</td>\n",
       "      <td>13.5</td>\n",
       "    </tr>\n",
       "  </tbody>\n",
       "</table>\n",
       "</div>"
      ],
      "text/plain": [
       "   index                         medallion                      hack_license  \\\n",
       "0      7  0B57B9633A2FECD3D3B1944AFC7471CF  CCD4367B417ED6634D986F573A552A62   \n",
       "1      9  2D4B95E2FA7B2E85118EC5CA4570FA58  CD2F522EEE1FF5F5A8D8B679E23576B3   \n",
       "2      7  0B57B9633A2FECD3D3B1944AFC7471CF  CCD4367B417ED6634D986F573A552A62   \n",
       "3      9  2D4B95E2FA7B2E85118EC5CA4570FA58  CD2F522EEE1FF5F5A8D8B679E23576B3   \n",
       "\n",
       "  vendor_id     pickup_datetime payment_type  fare_amount  surcharge  mta_tax  \\\n",
       "0       CMT 2013-01-07 12:39:18          CSH           34          0      0.5   \n",
       "1       CMT 2013-01-07 15:33:28          CSH           13          0      0.5   \n",
       "2       CMT 2013-01-07 12:39:18          CSH           34          0      0.5   \n",
       "3       CMT 2013-01-07 15:33:28          CSH           13          0      0.5   \n",
       "\n",
       "   tip_amount  tolls_amount  total_amount  \n",
       "0           0           4.8          39.3  \n",
       "1           0           0.0          13.5  \n",
       "2           0           4.8          39.3  \n",
       "3           0           0.0          13.5  "
      ]
     },
     "execution_count": 37,
     "metadata": {},
     "output_type": "execute_result"
    }
   ],
   "source": [
    "import time\n",
    "\n",
    "t0 = time.time()\n",
    "birth_data_from_sql = pd.read_sql_query(sql_query,con)\n",
    "t1 = time.time()\n",
    "total = t1-t0\n",
    "print total\n",
    "\n",
    "birth_data_from_sql.head()"
   ]
  },
  {
   "cell_type": "code",
   "execution_count": 38,
   "metadata": {
    "collapsed": true
   },
   "outputs": [],
   "source": [
    "# JMG Close the connection to the database\n",
    "con.close()"
   ]
  },
  {
   "cell_type": "markdown",
   "metadata": {
    "collapsed": false
   },
   "source": [
    "JMG -- I changed this so it's no longer code (because it doesn't work w/ my example)\n",
    "\n",
    "birth_data = pd.DataFrame.from_csv('births2012_downsampled.csv')\n",
    "\n",
    "t0 = time.time()\n",
    "birth_data=birth_data.loc[(birth_data['delivery_method'] == 'Cesarean')]\n",
    "t1 = time.time()\n",
    "total = t1-t0\n",
    "print total\n",
    "\n",
    "birth_data.head()"
   ]
  },
  {
   "cell_type": "markdown",
   "metadata": {},
   "source": [
    "## Loading a SQL database\n",
    "\n",
    "What if you already have a sql database and you want to load it? We will do this with the world.db data from the mysql help tables. Download it [here](https://dev.mysql.com/doc/index-other.html)\n",
    "\n"
   ]
  },
  {
   "cell_type": "code",
   "execution_count": 11,
   "metadata": {
    "collapsed": false
   },
   "outputs": [
    {
     "ename": "OperationalError",
     "evalue": "near \"SCHEMA\": syntax error",
     "output_type": "error",
     "traceback": [
      "\u001b[0;31m---------------------------------------------------------------------------\u001b[0m",
      "\u001b[0;31mOperationalError\u001b[0m                          Traceback (most recent call last)",
      "\u001b[0;32m<ipython-input-11-b8585c0451ed>\u001b[0m in \u001b[0;36m<module>\u001b[0;34m()\u001b[0m\n\u001b[1;32m     13\u001b[0m \u001b[0;34m\u001b[0m\u001b[0m\n\u001b[1;32m     14\u001b[0m \u001b[0;32mwith\u001b[0m \u001b[0mengine2\u001b[0m\u001b[0;34m.\u001b[0m\u001b[0mconnection\u001b[0m \u001b[0;32mas\u001b[0m \u001b[0mcursor\u001b[0m\u001b[0;34m:\u001b[0m\u001b[0;34m\u001b[0m\u001b[0m\n\u001b[0;32m---> 15\u001b[0;31m     \u001b[0mcursor\u001b[0m\u001b[0;34m.\u001b[0m\u001b[0mexecute\u001b[0m\u001b[0;34m(\u001b[0m\u001b[0mopen\u001b[0m\u001b[0;34m(\u001b[0m\u001b[0;34m\"world.sql\"\u001b[0m\u001b[0;34m,\u001b[0m \u001b[0;34m\"r\"\u001b[0m\u001b[0;34m)\u001b[0m\u001b[0;34m.\u001b[0m\u001b[0mread\u001b[0m\u001b[0;34m(\u001b[0m\u001b[0;34m)\u001b[0m\u001b[0;34m)\u001b[0m\u001b[0;34m\u001b[0m\u001b[0m\n\u001b[0m",
      "\u001b[0;31mOperationalError\u001b[0m: near \"SCHEMA\": syntax error"
     ]
    }
   ],
   "source": [
    "###### THIS DOESN'T WORK YET, DAMNIT!!!!\n",
    "\n",
    "\n",
    "import sqlite3\n",
    "\n",
    "dbname2 = 'world'\n",
    "engine2 = create_engine('postgres://%s@localhost/%s'%(username,dbname2))\n",
    "#create_database(engine2.url)\n",
    "#conn = psycopg2.connect(database=dbname2,user=username)\n",
    "\n",
    "# Create database connection\n",
    "engine2.connection = sqlite3.connect(\"world.db\")\n",
    "\n",
    "with engine2.connection as cursor:\n",
    "    cursor.execute(open(\"world.sql\", \"r\").read())"
   ]
  },
  {
   "cell_type": "markdown",
   "metadata": {},
   "source": [
    "**This should have given you a quick taste of how to use SQLALchemy, as well as how to run a few SQL queries both at the command line and in python.  You can see that pandas is actually a little faster than PostgreSQL here - that is because of the extra time it takes to communicate between python and PostGreSQL.  But as your database gets bigger (and certainly when it's too large to store in memory), working with relational databases becomes a necessity.**\n"
   ]
  },
  {
   "cell_type": "code",
   "execution_count": null,
   "metadata": {
    "collapsed": true
   },
   "outputs": [],
   "source": []
  }
 ],
 "metadata": {
  "kernelspec": {
   "display_name": "Python 2",
   "language": "python",
   "name": "python2"
  },
  "language_info": {
   "codemirror_mode": {
    "name": "ipython",
    "version": 2
   },
   "file_extension": ".py",
   "mimetype": "text/x-python",
   "name": "python",
   "nbconvert_exporter": "python",
   "pygments_lexer": "ipython2",
   "version": "2.7.11"
  }
 },
 "nbformat": 4,
 "nbformat_minor": 0
}
