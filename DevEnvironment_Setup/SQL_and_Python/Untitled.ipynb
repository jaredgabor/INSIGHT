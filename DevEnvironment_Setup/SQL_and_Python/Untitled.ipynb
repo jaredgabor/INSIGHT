{
 "cells": [
  {
   "cell_type": "code",
   "execution_count": 4,
   "metadata": {
    "collapsed": false
   },
   "outputs": [
    {
     "data": {
      "application/javascript": [
       "// change the mode of all current and future CodeMirror instances\n",
       "function to(mode) {\n",
       "    var mode = mode || 'vim'\n",
       "    // first let's apply vim mode to all current cells\n",
       "    function to_mode(c) { return c.code_mirror.setOption('keyMap', mode);};\n",
       "    IPython.notebook.get_cells().map(to_mode);\n",
       "    // apply the mode to future cells created\n",
       "    IPython.Cell.options_default.cm_config.keyMap = mode;\n",
       "}\n",
       "\n",
       "require([\"components/codemirror/keymap/emacs\"],\n",
       "     function (emacs) { \n",
       "         to('emacs'); \n",
       "         console.log('emacs.js loaded'); \n",
       "     });"
      ],
      "text/plain": [
       "<IPython.core.display.Javascript object>"
      ]
     },
     "metadata": {},
     "output_type": "display_data"
    }
   ],
   "source": [
    "%%javascript\n",
    "// change the mode of all current and future CodeMirror instances\n",
    "function to(mode) {\n",
    "    var mode = mode || 'vim'\n",
    "    // first let's apply vim mode to all current cells\n",
    "    function to_mode(c) { return c.code_mirror.setOption('keyMap', mode);};\n",
    "    IPython.notebook.get_cells().map(to_mode);\n",
    "    // apply the mode to future cells created\n",
    "    IPython.Cell.options_default.cm_config.keyMap = mode;\n",
    "}\n",
    "\n",
    "require([\"components/codemirror/keymap/emacs\"],\n",
    "     function (emacs) { \n",
    "         to('emacs'); \n",
    "         console.log('emacs.js loaded'); \n",
    "     });\n"
   ]
  },
  {
   "cell_type": "code",
   "execution_count": 5,
   "metadata": {
    "collapsed": false
   },
   "outputs": [
    {
     "name": "stdout",
     "output_type": "stream",
     "text": [
      "Hellow workdl\n"
     ]
    }
   ],
   "source": [
    "print \"Hellow workdl\""
   ]
  },
  {
   "cell_type": "code",
   "execution_count": 7,
   "metadata": {
    "collapsed": false
   },
   "outputs": [
    {
     "ename": "NameError",
     "evalue": "name 'to' is not defined",
     "output_type": "error",
     "traceback": [
      "\u001b[0;31m---------------------------------------------------------------------------\u001b[0m",
      "\u001b[0;31mNameError\u001b[0m                                 Traceback (most recent call last)",
      "\u001b[0;32m<ipython-input-7-cf49fa0cfc8b>\u001b[0m in \u001b[0;36m<module>\u001b[0;34m()\u001b[0m\n\u001b[0;32m----> 1\u001b[0;31m \u001b[0mto\u001b[0m\u001b[0;34m(\u001b[0m\u001b[0;34m'emacs'\u001b[0m\u001b[0;34m)\u001b[0m\u001b[0;34m\u001b[0m\u001b[0m\n\u001b[0m",
      "\u001b[0;31mNameError\u001b[0m: name 'to' is not defined"
     ]
    }
   ],
   "source": [
    "to('emacs')"
   ]
  },
  {
   "cell_type": "code",
   "execution_count": null,
   "metadata": {
    "collapsed": true
   },
   "outputs": [],
   "source": []
  }
 ],
 "metadata": {
  "kernelspec": {
   "display_name": "Python 2",
   "language": "python",
   "name": "python2"
  },
  "language_info": {
   "codemirror_mode": {
    "name": "ipython",
    "version": 2
   },
   "file_extension": ".py",
   "mimetype": "text/x-python",
   "name": "python",
   "nbconvert_exporter": "python",
   "pygments_lexer": "ipython2",
   "version": "2.7.11"
  }
 },
 "nbformat": 4,
 "nbformat_minor": 0
}
