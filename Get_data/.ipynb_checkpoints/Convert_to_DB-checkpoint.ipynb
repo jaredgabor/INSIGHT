{
 "cells": [
  {
   "cell_type": "code",
   "execution_count": 86,
   "metadata": {
    "collapsed": true
   },
   "outputs": [],
   "source": [
    "from sqlalchemy import create_engine\n",
    "from sqlalchemy_utils import database_exists, create_database\n",
    "import psycopg2\n",
    "import pandas as pd\n",
    "import zipfile"
   ]
  },
  {
   "cell_type": "code",
   "execution_count": 87,
   "metadata": {
    "collapsed": false
   },
   "outputs": [
    {
     "name": "stdout",
     "output_type": "stream",
     "text": [
      "ENGINE postgresql://jgabor@localhost/taxi\n"
     ]
    }
   ],
   "source": [
    "dbname = 'taxi'\n",
    "username = 'jgabor'\n",
    "\n",
    "# I think this engine stuff isn't needed now that I'm using\n",
    "# psycopg2.\n",
    "engine = create_engine('postgresql://%s@localhost/%s'%(username,dbname))\n",
    "print 'ENGINE', engine.url\n",
    "\n",
    "dir = \"/Volumes/MYPASSPORT/Data/\"\n",
    "\n",
    "nfiles = 12\n",
    "dat_filenames = \\\n",
    "    [('trip_data_'+str(i)+'.csv') for i in range(1,nfiles+1)]\n",
    "fare_filenames = \\\n",
    "    [('trip_fare_'+str(i)+'.csv') for i in range(1,nfiles+1)]\n",
    "\n"
   ]
  },
  {
   "cell_type": "code",
   "execution_count": 95,
   "metadata": {
    "collapsed": false
   },
   "outputs": [],
   "source": [
    "# Define the filename and open the zipfile in Python\n",
    "dat_fbase = dat_filenames[0]\n",
    "file = dir + dat_fbase\n",
    "file_zipped = file + '.zip'\n",
    "zz = zipfile.ZipFile(file_zipped)\n",
    "fffile = zz.open(dat_fbase)\n",
    "\n",
    "# Alternative (very) small file for quick testing!\n",
    "#fffile = open(dir+'test.csv')"
   ]
  },
  {
   "cell_type": "code",
   "execution_count": 101,
   "metadata": {
    "collapsed": true
   },
   "outputs": [],
   "source": [
    "command_create = \\\n",
    "    \"\"\"CREATE TABLE taxi_test1(\n",
    "    medallion             varchar(40),\n",
    "    hack_license          varchar(40),\n",
    "    vendor_id             varchar(10),\n",
    "    rate_code             int,\n",
    "    store_and_fwd_flag    varchar(3),\n",
    "    pickup_datetime       timestamp without time zone,\n",
    "    dropoff_datetime      timestamp without time zone,\n",
    "    passenger_count       int,\n",
    "    trip_time_in_secs     int,\n",
    "    trip_distance         real,\n",
    "    pickup_longitude      real,\n",
    "    pickup_latitude       real,\n",
    "    dropoff_longitude     real,\n",
    "    dropoff_latitude      real    \n",
    "    );\"\"\"\n"
   ]
  },
  {
   "cell_type": "code",
   "execution_count": 102,
   "metadata": {
    "collapsed": false
   },
   "outputs": [],
   "source": [
    "# connect to the PostgreSQL database. NB: the SQL server must be running\n",
    "con = None\n",
    "con = psycopg2.connect(database = dbname, user = username)\n",
    "cur = con.cursor()\n",
    "#con.commit()"
   ]
  },
  {
   "cell_type": "code",
   "execution_count": 98,
   "metadata": {
    "collapsed": false
   },
   "outputs": [
    {
     "ename": "ProgrammingError",
     "evalue": "relation \"taxi_test1\" already exists\n",
     "output_type": "error",
     "traceback": [
      "\u001b[0;31m---------------------------------------------------------------------------\u001b[0m",
      "\u001b[0;31mProgrammingError\u001b[0m                          Traceback (most recent call last)",
      "\u001b[0;32m<ipython-input-98-69a9580adfa1>\u001b[0m in \u001b[0;36m<module>\u001b[0;34m()\u001b[0m\n\u001b[1;32m      1\u001b[0m \u001b[0;31m# Execute the SQL command to create a new table\u001b[0m\u001b[0;34m\u001b[0m\u001b[0;34m\u001b[0m\u001b[0m\n\u001b[0;32m----> 2\u001b[0;31m \u001b[0mcur\u001b[0m\u001b[0;34m.\u001b[0m\u001b[0mexecute\u001b[0m\u001b[0;34m(\u001b[0m\u001b[0mcommand_create\u001b[0m\u001b[0;34m)\u001b[0m\u001b[0;34m\u001b[0m\u001b[0m\n\u001b[0m",
      "\u001b[0;31mProgrammingError\u001b[0m: relation \"taxi_test1\" already exists\n"
     ]
    }
   ],
   "source": [
    "# Execute the SQL command to create a new table\n",
    "cur.execute(command_create)"
   ]
  },
  {
   "cell_type": "code",
   "execution_count": 103,
   "metadata": {
    "collapsed": false
   },
   "outputs": [],
   "source": [
    "# Copy the data from the csv file object to the SQL table\n",
    "#cur.copy_from(fffile, 'taxi_test1', sep=',', null='')\n",
    "sql_command = \"COPY taxi_test1 FROM stdin CSV HEADER NULL ''\"\n",
    "cur.copy_expert(sql_command, fffile)\n",
    "## NB: In the above case, reading \"FROM stdin\" actually means\n",
    "## reading from the File object 'fffile'"
   ]
  },
  {
   "cell_type": "code",
   "execution_count": 104,
   "metadata": {
    "collapsed": true
   },
   "outputs": [],
   "source": [
    "con.commit()"
   ]
  },
  {
   "cell_type": "code",
   "execution_count": 105,
   "metadata": {
    "collapsed": true
   },
   "outputs": [],
   "source": [
    "cur.close()\n",
    "con.close()"
   ]
  },
  {
   "cell_type": "code",
   "execution_count": null,
   "metadata": {
    "collapsed": true
   },
   "outputs": [],
   "source": []
  }
 ],
 "metadata": {
  "kernelspec": {
   "display_name": "Python 2",
   "language": "python",
   "name": "python2"
  },
  "language_info": {
   "codemirror_mode": {
    "name": "ipython",
    "version": 2
   },
   "file_extension": ".py",
   "mimetype": "text/x-python",
   "name": "python",
   "nbconvert_exporter": "python",
   "pygments_lexer": "ipython2",
   "version": "2.7.11"
  }
 },
 "nbformat": 4,
 "nbformat_minor": 0
}
