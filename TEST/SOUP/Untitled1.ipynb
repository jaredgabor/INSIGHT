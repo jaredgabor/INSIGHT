{
 "cells": [
  {
   "cell_type": "code",
   "execution_count": 110,
   "metadata": {
    "collapsed": false
   },
   "outputs": [],
   "source": [
    "dir = \"/Users/jgabor/NEW_WORKDIR/INSIGHT/DATA/\"\n",
    "file = dir + \"ticks.csv\"\n",
    "import matplotlib\n",
    "%matplotlib inline"
   ]
  },
  {
   "cell_type": "code",
   "execution_count": 5,
   "metadata": {
    "collapsed": true
   },
   "outputs": [],
   "source": [
    "import pandas as pd"
   ]
  },
  {
   "cell_type": "code",
   "execution_count": 118,
   "metadata": {
    "collapsed": false
   },
   "outputs": [
    {
     "data": {
      "text/html": [
       "<div>\n",
       "<table border=\"1\" class=\"dataframe\">\n",
       "  <thead>\n",
       "    <tr style=\"text-align: right;\">\n",
       "      <th></th>\n",
       "      <th>date</th>\n",
       "      <th>lat</th>\n",
       "      <th>long</th>\n",
       "      <th>location</th>\n",
       "    </tr>\n",
       "  </thead>\n",
       "  <tbody>\n",
       "    <tr>\n",
       "      <th>0</th>\n",
       "      <td>2005-12-22</td>\n",
       "      <td>44.4578</td>\n",
       "      <td>-103.8589</td>\n",
       "      <td>All Locations : Spearfish Canyon : Bridalveil ...</td>\n",
       "    </tr>\n",
       "    <tr>\n",
       "      <th>1</th>\n",
       "      <td>2004-01-29</td>\n",
       "      <td>44.4578</td>\n",
       "      <td>-103.8589</td>\n",
       "      <td>All Locations : Spearfish Canyon : Bridalveil ...</td>\n",
       "    </tr>\n",
       "    <tr>\n",
       "      <th>2</th>\n",
       "      <td>2014-12-28</td>\n",
       "      <td>44.4578</td>\n",
       "      <td>-103.8589</td>\n",
       "      <td>All Locations : Spearfish Canyon : Bridalveil ...</td>\n",
       "    </tr>\n",
       "    <tr>\n",
       "      <th>3</th>\n",
       "      <td>1994-12-03</td>\n",
       "      <td>44.4578</td>\n",
       "      <td>-103.8589</td>\n",
       "      <td>All Locations : Spearfish Canyon : Bridalveil ...</td>\n",
       "    </tr>\n",
       "    <tr>\n",
       "      <th>4</th>\n",
       "      <td>2009-01-01</td>\n",
       "      <td>44.4578</td>\n",
       "      <td>-103.8589</td>\n",
       "      <td>All Locations : Spearfish Canyon : Bridalveil ...</td>\n",
       "    </tr>\n",
       "  </tbody>\n",
       "</table>\n",
       "</div>"
      ],
      "text/plain": [
       "         date      lat      long  \\\n",
       "0  2005-12-22  44.4578 -103.8589   \n",
       "1  2004-01-29  44.4578 -103.8589   \n",
       "2  2014-12-28  44.4578 -103.8589   \n",
       "3  1994-12-03  44.4578 -103.8589   \n",
       "4  2009-01-01  44.4578 -103.8589   \n",
       "\n",
       "                                            location  \n",
       "0  All Locations : Spearfish Canyon : Bridalveil ...  \n",
       "1  All Locations : Spearfish Canyon : Bridalveil ...  \n",
       "2  All Locations : Spearfish Canyon : Bridalveil ...  \n",
       "3  All Locations : Spearfish Canyon : Bridalveil ...  \n",
       "4  All Locations : Spearfish Canyon : Bridalveil ...  "
      ]
     },
     "execution_count": 118,
     "metadata": {},
     "output_type": "execute_result"
    }
   ],
   "source": [
    "tickdat = pd.read_csv(file, parse_dates=True)\n",
    "tickdat.head()"
   ]
  },
  {
   "cell_type": "code",
   "execution_count": 119,
   "metadata": {
    "collapsed": false
   },
   "outputs": [
    {
     "data": {
      "text/plain": [
       "Index([u'date', u'lat', u'long', u'location'], dtype='object')"
      ]
     },
     "execution_count": 119,
     "metadata": {},
     "output_type": "execute_result"
    }
   ],
   "source": [
    "tickdat.columns"
   ]
  },
  {
   "cell_type": "code",
   "execution_count": 120,
   "metadata": {
    "collapsed": false
   },
   "outputs": [
    {
     "data": {
      "text/html": [
       "<div>\n",
       "<table border=\"1\" class=\"dataframe\">\n",
       "  <thead>\n",
       "    <tr style=\"text-align: right;\">\n",
       "      <th></th>\n",
       "      <th>date</th>\n",
       "      <th>lat</th>\n",
       "      <th>long</th>\n",
       "      <th>location</th>\n",
       "    </tr>\n",
       "  </thead>\n",
       "  <tbody>\n",
       "    <tr>\n",
       "      <th>0</th>\n",
       "      <td>2005-12-22</td>\n",
       "      <td>44.4578</td>\n",
       "      <td>-103.8589</td>\n",
       "      <td>All Locations : Spearfish Canyon : Bridalveil ...</td>\n",
       "    </tr>\n",
       "    <tr>\n",
       "      <th>1</th>\n",
       "      <td>2004-01-29</td>\n",
       "      <td>44.4578</td>\n",
       "      <td>-103.8589</td>\n",
       "      <td>All Locations : Spearfish Canyon : Bridalveil ...</td>\n",
       "    </tr>\n",
       "    <tr>\n",
       "      <th>2</th>\n",
       "      <td>2014-12-28</td>\n",
       "      <td>44.4578</td>\n",
       "      <td>-103.8589</td>\n",
       "      <td>All Locations : Spearfish Canyon : Bridalveil ...</td>\n",
       "    </tr>\n",
       "    <tr>\n",
       "      <th>3</th>\n",
       "      <td>1994-12-03</td>\n",
       "      <td>44.4578</td>\n",
       "      <td>-103.8589</td>\n",
       "      <td>All Locations : Spearfish Canyon : Bridalveil ...</td>\n",
       "    </tr>\n",
       "    <tr>\n",
       "      <th>4</th>\n",
       "      <td>2009-01-01</td>\n",
       "      <td>44.4578</td>\n",
       "      <td>-103.8589</td>\n",
       "      <td>All Locations : Spearfish Canyon : Bridalveil ...</td>\n",
       "    </tr>\n",
       "  </tbody>\n",
       "</table>\n",
       "</div>"
      ],
      "text/plain": [
       "         date      lat      long  \\\n",
       "0  2005-12-22  44.4578 -103.8589   \n",
       "1  2004-01-29  44.4578 -103.8589   \n",
       "2  2014-12-28  44.4578 -103.8589   \n",
       "3  1994-12-03  44.4578 -103.8589   \n",
       "4  2009-01-01  44.4578 -103.8589   \n",
       "\n",
       "                                            location  \n",
       "0  All Locations : Spearfish Canyon : Bridalveil ...  \n",
       "1  All Locations : Spearfish Canyon : Bridalveil ...  \n",
       "2  All Locations : Spearfish Canyon : Bridalveil ...  \n",
       "3  All Locations : Spearfish Canyon : Bridalveil ...  \n",
       "4  All Locations : Spearfish Canyon : Bridalveil ...  "
      ]
     },
     "execution_count": 120,
     "metadata": {},
     "output_type": "execute_result"
    }
   ],
   "source": [
    "tickdat = tickdat.sort_index()\n",
    "tickdat.head()"
   ]
  },
  {
   "cell_type": "code",
   "execution_count": 121,
   "metadata": {
    "collapsed": false
   },
   "outputs": [],
   "source": [
    "td = tickdat.sort_values(by=['location','date'])\n"
   ]
  },
  {
   "cell_type": "code",
   "execution_count": 122,
   "metadata": {
    "collapsed": false
   },
   "outputs": [
    {
     "data": {
      "text/plain": [
       "<_sre.SRE_Match at 0x182bfd098>"
      ]
     },
     "execution_count": 122,
     "metadata": {},
     "output_type": "execute_result"
    }
   ],
   "source": [
    "(re.search('Joshua', \"The Joshua tree nationa park\"))\n",
    "\n",
    "##td['location'].str.findall('*Joshua*')"
   ]
  },
  {
   "cell_type": "code",
   "execution_count": 123,
   "metadata": {
    "collapsed": false
   },
   "outputs": [],
   "source": [
    "w_Jtree = td['location'].str.contains(\"Joshua Tree\")\n",
    "JJ = td[w_Jtree]"
   ]
  },
  {
   "cell_type": "code",
   "execution_count": 124,
   "metadata": {
    "collapsed": false
   },
   "outputs": [
    {
     "name": "stdout",
     "output_type": "stream",
     "text": [
      "               date      lat      long  \\\n",
      "1178803  2011-09-29  34.1194 -116.1185   \n",
      "1198453  2012-06-23  34.1181 -116.1157   \n",
      "76578    0000-00-00  34.0285 -116.1451   \n",
      "76621    1984-03-16  34.0285 -116.1451   \n",
      "76577    2004-03-06  34.0285 -116.1451   \n",
      "\n",
      "                                                  location  \n",
      "1178803  All Locations : Joshua Tree National Park : *J...  \n",
      "1198453  All Locations : Joshua Tree National Park : *J...  \n",
      "76578    All Locations : Joshua Tree National Park : *J...  \n",
      "76621    All Locations : Joshua Tree National Park : *J...  \n",
      "76577    All Locations : Joshua Tree National Park : *J...  \n",
      "60923\n"
     ]
    }
   ],
   "source": [
    "print JJ.head()\n",
    "print len(JJ)"
   ]
  },
  {
   "cell_type": "code",
   "execution_count": 125,
   "metadata": {
    "collapsed": false
   },
   "outputs": [],
   "source": [
    "loc = td['location']"
   ]
  },
  {
   "cell_type": "code",
   "execution_count": 126,
   "metadata": {
    "collapsed": false
   },
   "outputs": [],
   "source": [
    "ss = loc.str.split(\":\")"
   ]
  },
  {
   "cell_type": "code",
   "execution_count": 127,
   "metadata": {
    "collapsed": false
   },
   "outputs": [
    {
     "data": {
      "text/plain": [
       "['All Locations ',\n",
       " ' Joshua Tree National Park ',\n",
       " ' Real Hidden Valley ',\n",
       " ' The Sentinel ',\n",
       " ' The Sentinel - West Face']"
      ]
     },
     "execution_count": 127,
     "metadata": {},
     "output_type": "execute_result"
    }
   ],
   "source": [
    "ss[55000]"
   ]
  },
  {
   "cell_type": "code",
   "execution_count": 128,
   "metadata": {
    "collapsed": false
   },
   "outputs": [
    {
     "name": "stdout",
     "output_type": "stream",
     "text": [
      "**** ['All Locations ', ' * In Progress ', \" Fireman's Park Bouldering A... \", ' Burn Ban Boulder']\n",
      "---- ['All Locations ', ' * In Progress ', \" Fireman's Park Bouldering A... \", ' Burn Ban Boulder']\n",
      "**** ['All Locations ', ' * In Progress ', ' North Dakota ', ' Sentinel Butte Bouldering ', ' North Boulders ', ' The Spire']\n",
      "---- ['All Locations ', ' * In Progress ', ' Phantom Canyon Stream Rock']\n",
      "**** ['All Locations ', ' *Rumney ', ' *Rumney Bouldering ', ' Main Parking Lot/Meadows Bo... ', ' The Meadows bouldering ', ' The Meat Grinder Boulders ', ' The Middle Boulder']\n",
      "**** ['All Locations ', ' AK ', ' Anchorage & South Central A... ', ' Hatcher Pass ', ' Reed Lakes Bouldering and C... ', '  Reed Lakes Bouldering ', ' Lower Reed Valley Boulderin... ', ' Nugget Boulder']\n",
      "**** ['All Locations ', ' AZ ', ' Central Arizona ', ' **Prescott Areas ', ' *Prescott Area Bouldering ', ' Senators Highway Areas, Gro... ', ' Groom Creek ', ' Main Boulders ', ' Alley Rocks']\n",
      "**** ['All Locations ', ' CA ', ' San Bernardino Mountains ', ' Lake Arrowhead Area ', ' Lake Arrowhead Pinnacles ', ' Rotten Rock Valley ', ' Wall of Buttresses ', ' Upper Buttresses ', ' Champagne Rock ', ' Champagne Rock - East Face']\n",
      "---- ['All Locations ', ' Laurel Knob']\n",
      "2 10\n"
     ]
    }
   ],
   "source": [
    "maxlen = 0\n",
    "minlen = 100\n",
    "for mylist in ss:\n",
    "    if len(mylist) > maxlen:\n",
    "        maxlen = len(mylist)\n",
    "        print \"****\", mylist\n",
    "    if len(mylist) < minlen:\n",
    "        minlen = len(mylist)\n",
    "        print '----', mylist\n",
    "print minlen, maxlen"
   ]
  },
  {
   "cell_type": "code",
   "execution_count": 129,
   "metadata": {
    "collapsed": false
   },
   "outputs": [
    {
     "name": "stdout",
     "output_type": "stream",
     "text": [
      "Nticks in Hidden valley 10419\n"
     ]
    }
   ],
   "source": [
    "jj_loc = JJ['location']\n",
    "w_hiddenvalley = (JJ['location'].str.contains(\"Hidden Valley Camp\"))\n",
    "print \"Nticks in Hidden valley\", len(JJ[w_hiddenvalley])\n",
    "HV = JJ[w_hiddenvalley]\n",
    "hv_loc = HV['location']\n",
    "uniq = hv_loc.unique()\n",
    "s1=HV['date']"
   ]
  },
  {
   "cell_type": "code",
   "execution_count": 130,
   "metadata": {
    "collapsed": false
   },
   "outputs": [
    {
     "data": {
      "text/plain": [
       "str"
      ]
     },
     "execution_count": 130,
     "metadata": {},
     "output_type": "execute_result"
    }
   ],
   "source": [
    "type(s1[942091])"
   ]
  },
  {
   "cell_type": "code",
   "execution_count": 131,
   "metadata": {
    "collapsed": false
   },
   "outputs": [
    {
     "name": "stdout",
     "output_type": "stream",
     "text": [
      "2012-07-20\n"
     ]
    },
    {
     "data": {
      "text/plain": [
       "Timestamp('2012-07-20 00:00:00')"
      ]
     },
     "execution_count": 131,
     "metadata": {},
     "output_type": "execute_result"
    }
   ],
   "source": [
    "print s1[942091]\n",
    "pd.Timestamp(s1[942091])"
   ]
  },
  {
   "cell_type": "code",
   "execution_count": 168,
   "metadata": {
    "collapsed": false
   },
   "outputs": [
    {
     "data": {
      "text/plain": [
       "array([ 42.57808219,  45.98630137,  45.98630137, ...,  45.0739726 ,\n",
       "        45.85205479,  45.94246575])"
      ]
     },
     "execution_count": 168,
     "metadata": {},
     "output_type": "execute_result"
    }
   ],
   "source": [
    "dts = pd.to_datetime(s1, yearfirst=True, errors='coerce')\n",
    "timestamps = dts.values.astype('int')/ 365./24./60./60./1e9\n",
    "timestamps"
   ]
  },
  {
   "cell_type": "code",
   "execution_count": 195,
   "metadata": {
    "collapsed": false
   },
   "outputs": [
    {
     "data": {
      "image/png": "[encoded data removed]",
      "text/plain": [
       "<matplotlib.figure.Figure at 0x1683d3e10>"
      ]
     },
     "metadata": {},
     "output_type": "display_data"
    }
   ],
   "source": [
    "plt.figure()\n",
    "junk = plt.hist(timestamps, 180, range=[42.0,42.5])"
   ]
  },
  {
   "cell_type": "code",
   "execution_count": 184,
   "metadata": {
    "collapsed": false
   },
   "outputs": [],
   "source": [
    "df = pd.DataFrame(dts)"
   ]
  },
  {
   "cell_type": "code",
   "execution_count": 187,
   "metadata": {
    "collapsed": false
   },
   "outputs": [],
   "source": [
    "xx = df.groupby([df.date.dt.year, df.date.dt.month, df.date.dt.day]).count()"
   ]
  },
  {
   "cell_type": "code",
   "execution_count": 191,
   "metadata": {
    "collapsed": false
   },
   "outputs": [
    {
     "data": {
      "text/plain": [
       "<matplotlib.axes._subplots.AxesSubplot at 0x16ade7fd0>"
      ]
     },
     "execution_count": 191,
     "metadata": {},
     "output_type": "execute_result"
    },
    {
     "data": {
      "text/plain": [
       "<matplotlib.figure.Figure at 0x16b2b1590>"
      ]
     },
     "metadata": {},
     "output_type": "display_data"
    },
    {
     "data": {
      "image/png": "[encoded data removed]",
      "text/plain": [
       "<matplotlib.figure.Figure at 0x16b231cd0>"
      ]
     },
     "metadata": {},
     "output_type": "display_data"
    }
   ],
   "source": [
    "plt.figure()\n",
    "xx.plot(kind=\"bar\")"
   ]
  },
  {
   "cell_type": "code",
   "execution_count": 196,
   "metadata": {
    "collapsed": false
   },
   "outputs": [
    {
     "name": "stdout",
     "output_type": "stream",
     "text": [
      "Nticks in Live Oak 98\n"
     ]
    },
    {
     "ename": "NameError",
     "evalue": "name 'LO_loc' is not defined",
     "output_type": "error",
     "traceback": [
      "\u001b[0;31m---------------------------------------------------------------------------\u001b[0m",
      "\u001b[0;31mNameError\u001b[0m                                 Traceback (most recent call last)",
      "\u001b[0;32m<ipython-input-196-07fe589f6fd2>\u001b[0m in \u001b[0;36m<module>\u001b[0;34m()\u001b[0m\n\u001b[1;32m      3\u001b[0m \u001b[0mLO\u001b[0m \u001b[0;34m=\u001b[0m \u001b[0mJJ\u001b[0m\u001b[0;34m[\u001b[0m\u001b[0mw_liveoak\u001b[0m\u001b[0;34m]\u001b[0m\u001b[0;34m\u001b[0m\u001b[0m\n\u001b[1;32m      4\u001b[0m \u001b[0mhv_loc\u001b[0m \u001b[0;34m=\u001b[0m \u001b[0mLO\u001b[0m\u001b[0;34m[\u001b[0m\u001b[0;34m'location'\u001b[0m\u001b[0;34m]\u001b[0m\u001b[0;34m\u001b[0m\u001b[0m\n\u001b[0;32m----> 5\u001b[0;31m \u001b[0muniq\u001b[0m \u001b[0;34m=\u001b[0m \u001b[0mLO_loc\u001b[0m\u001b[0;34m.\u001b[0m\u001b[0munique\u001b[0m\u001b[0;34m(\u001b[0m\u001b[0;34m)\u001b[0m\u001b[0;34m\u001b[0m\u001b[0m\n\u001b[0m\u001b[1;32m      6\u001b[0m \u001b[0ms1\u001b[0m\u001b[0;34m=\u001b[0m\u001b[0mLO\u001b[0m\u001b[0;34m[\u001b[0m\u001b[0;34m'date'\u001b[0m\u001b[0;34m]\u001b[0m\u001b[0;34m\u001b[0m\u001b[0m\n",
      "\u001b[0;31mNameError\u001b[0m: name 'LO_loc' is not defined"
     ]
    }
   ],
   "source": [
    "w_liveoak = (JJ['location'].str.contains(\"Live Oak Pi\"))\n",
    "print \"Nticks in Live Oak\", len(JJ[w_liveoak])\n",
    "LO = JJ[w_liveoak]\n",
    "hv_loc = LO['location']\n",
    "uniq = LO_loc.unique()\n",
    "s1=LO['date']"
   ]
  },
  {
   "cell_type": "code",
   "execution_count": null,
   "metadata": {
    "collapsed": true
   },
   "outputs": [],
   "source": []
  }
 ],
 "metadata": {
  "kernelspec": {
   "display_name": "Python 2",
   "language": "python",
   "name": "python2"
  },
  "language_info": {
   "codemirror_mode": {
    "name": "ipython",
    "version": 2
   },
   "file_extension": ".py",
   "mimetype": "text/x-python",
   "name": "python",
   "nbconvert_exporter": "python",
   "pygments_lexer": "ipython2",
   "version": "2.7.11"
  }
 },
 "nbformat": 4,
 "nbformat_minor": 0
}
