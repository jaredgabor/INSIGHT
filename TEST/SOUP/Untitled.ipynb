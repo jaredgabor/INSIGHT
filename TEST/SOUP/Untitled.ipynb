{
 "cells": [
  {
   "cell_type": "code",
   "execution_count": 6,
   "metadata": {
    "collapsed": false
   },
   "outputs": [
    {
     "ename": "ImportError",
     "evalue": "No module named beautifulsoup4",
     "output_type": "error",
     "traceback": [
      "\u001b[0;31m---------------------------------------------------------------------------\u001b[0m",
      "\u001b[0;31mImportError\u001b[0m                               Traceback (most recent call last)",
      "\u001b[0;32m<ipython-input-6-7e3d2e2a3c50>\u001b[0m in \u001b[0;36m<module>\u001b[0;34m()\u001b[0m\n\u001b[0;32m----> 1\u001b[0;31m \u001b[0;32mimport\u001b[0m \u001b[0mbeautifulsoup4\u001b[0m\u001b[0;34m\u001b[0m\u001b[0m\n\u001b[0m",
      "\u001b[0;31mImportError\u001b[0m: No module named beautifulsoup4"
     ]
    }
   ],
   "source": [
    "import beautifulsoup4"
   ]
  },
  {
   "cell_type": "code",
   "execution_count": null,
   "metadata": {
    "collapsed": true
   },
   "outputs": [],
   "source": [
    "#!/usr/bin/python\n",
    "#Original from here: http://code.activestate.com/recipes/576594/\n",
    "#rips Tweets from twitter account, prints as HTML for inclusion in webpage with Date/Time stamp\n",
    "\n",
    "import time\n",
    "from urllib2 import urlopen\n",
    "from BeautifulSoup import BeautifulSoup\n",
    "\n",
    "# Replace USERNAME with your twitter username\n",
    "url = u'http://twitter.com/USERNAME?page=%s'\n",
    "\n",
    "for x in range(10*10000):\n",
    "    f = urlopen(url % x)\n",
    "    soup = BeautifulSoup(f.read())\n",
    "    f.close()\n",
    "   # print soup #WHAT'S GOING ON?\n",
    "    tweets = soup.findAll('span', {'class': 'entry-content'})\n",
    "    dates = soup.findAll('span',{'class': 'published timestamp'})\n",
    "\n",
    "    for index, tweet in enumerate(tweets):\n",
    "\tprint \"<h3>\",dates[index].renderContents(),\"</h3><p>\",tweet.renderContents(),\"</p>\"\n",
    "#\tprint tweet.renderContents()\n",
    "\n",
    "\n",
    "    if len(tweets) == 0:\n",
    "        break\n",
    "    # being nice to twitter's servers\n",
    "    time.sleep(5)"
   ]
  }
 ],
 "metadata": {
  "kernelspec": {
   "display_name": "Python 2",
   "language": "python",
   "name": "python2"
  },
  "language_info": {
   "codemirror_mode": {
    "name": "ipython",
    "version": 2
   },
   "file_extension": ".py",
   "mimetype": "text/x-python",
   "name": "python",
   "nbconvert_exporter": "python",
   "pygments_lexer": "ipython2",
   "version": "2.7.10"
  }
 },
 "nbformat": 4,
 "nbformat_minor": 0
}
