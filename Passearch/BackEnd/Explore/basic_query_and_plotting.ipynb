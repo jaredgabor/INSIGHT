{
 "cells": [
  {
   "cell_type": "code",
   "execution_count": 87,
   "metadata": {
    "collapsed": true
   },
   "outputs": [],
   "source": [
    "from sqlalchemy import create_engine\n",
    "from sqlalchemy_utils import database_exists, create_database\n",
    "import psycopg2\n",
    "import pandas as pd\n",
    "%matplotlib inline"
   ]
  },
  {
   "cell_type": "code",
   "execution_count": 2,
   "metadata": {
    "collapsed": true
   },
   "outputs": [],
   "source": [
    "dbname = 'taxi'\n",
    "username='jgabor'"
   ]
  },
  {
   "cell_type": "code",
   "execution_count": 3,
   "metadata": {
    "collapsed": false
   },
   "outputs": [
    {
     "name": "stdout",
     "output_type": "stream",
     "text": [
      "ENGINE postgresql://jgabor@localhost/taxi\n"
     ]
    }
   ],
   "source": [
    "# Connect with the database\n",
    "\n",
    "#con = None\n",
    "#con = psycopg2.connect(database=dbname, user=username)\n",
    "#cur = con.cursor()\n",
    "\n",
    "engine = create_engine('postgresql://%s@localhost/%s' % (username, dbname))\n",
    "print \"ENGINE\", engine.url"
   ]
  },
  {
   "cell_type": "code",
   "execution_count": 9,
   "metadata": {
    "collapsed": false,
    "scrolled": true
   },
   "outputs": [
    {
     "data": {
      "text/html": [
       "<div>\n",
       "<table border=\"1\" class=\"dataframe\">\n",
       "  <thead>\n",
       "    <tr style=\"text-align: right;\">\n",
       "      <th></th>\n",
       "      <th>pickup_longitude</th>\n",
       "      <th>pickup_latitude</th>\n",
       "      <th>pickup_datetime</th>\n",
       "    </tr>\n",
       "  </thead>\n",
       "  <tbody>\n",
       "    <tr>\n",
       "      <th>0</th>\n",
       "      <td>-73.9971</td>\n",
       "      <td>40.7512</td>\n",
       "      <td>2013-01-01 13:29:00</td>\n",
       "    </tr>\n",
       "    <tr>\n",
       "      <th>1</th>\n",
       "      <td>-73.9777</td>\n",
       "      <td>40.7423</td>\n",
       "      <td>2013-01-01 13:23:00</td>\n",
       "    </tr>\n",
       "    <tr>\n",
       "      <th>2</th>\n",
       "      <td>-73.9996</td>\n",
       "      <td>40.7329</td>\n",
       "      <td>2013-01-01 13:05:00</td>\n",
       "    </tr>\n",
       "    <tr>\n",
       "      <th>3</th>\n",
       "      <td>-73.9861</td>\n",
       "      <td>40.7541</td>\n",
       "      <td>2013-01-01 13:28:00</td>\n",
       "    </tr>\n",
       "    <tr>\n",
       "      <th>4</th>\n",
       "      <td>-73.9976</td>\n",
       "      <td>40.7256</td>\n",
       "      <td>2013-01-01 13:10:00</td>\n",
       "    </tr>\n",
       "  </tbody>\n",
       "</table>\n",
       "</div>"
      ],
      "text/plain": [
       "   pickup_longitude  pickup_latitude     pickup_datetime\n",
       "0          -73.9971          40.7512 2013-01-01 13:29:00\n",
       "1          -73.9777          40.7423 2013-01-01 13:23:00\n",
       "2          -73.9996          40.7329 2013-01-01 13:05:00\n",
       "3          -73.9861          40.7541 2013-01-01 13:28:00\n",
       "4          -73.9976          40.7256 2013-01-01 13:10:00"
      ]
     },
     "execution_count": 9,
     "metadata": {},
     "output_type": "execute_result"
    }
   ],
   "source": [
    "# Try out a very simple query\n",
    "sql = \"\"\"SELECT pickup_longitude, pickup_latitude, pickup_datetime \n",
    "    FROM taxi_trips LIMIT 1000000\"\"\"\n",
    "df1 = pd.read_sql_query(sql, engine, parse_dates=['pickup_datetime'])\n",
    "df1.head()"
   ]
  },
  {
   "cell_type": "code",
   "execution_count": 24,
   "metadata": {
    "collapsed": false
   },
   "outputs": [
    {
     "name": "stdout",
     "output_type": "stream",
     "text": [
      "2013-01-03 19:54:00\n",
      "Day of week (0=Monday):  3\n",
      "week of year 1\n",
      "minute of the hour 54\n"
     ]
    }
   ],
   "source": [
    "# Some quick examples with datetimes\n",
    "ii = 500000\n",
    "my_dt = df1['pickup_datetime'][ii]\n",
    "print my_dt\n",
    "print \"Day of week (0=Monday): \", df1['pickup_datetime'][ii].dayofweek\n",
    "print \"week of year\", df1['pickup_datetime'][ii].weekofyear\n",
    "print \"minute of the hour\", my_dt.minute"
   ]
  },
  {
   "cell_type": "code",
   "execution_count": 40,
   "metadata": {
    "collapsed": false
   },
   "outputs": [
    {
     "data": {
      "text/html": [
       "<div>\n",
       "<table border=\"1\" class=\"dataframe\">\n",
       "  <thead>\n",
       "    <tr style=\"text-align: right;\">\n",
       "      <th></th>\n",
       "      <th>pickup_datetime</th>\n",
       "      <th>minute_of_day</th>\n",
       "    </tr>\n",
       "  </thead>\n",
       "  <tbody>\n",
       "    <tr>\n",
       "      <th>0</th>\n",
       "      <td>2013-01-06</td>\n",
       "      <td>0</td>\n",
       "    </tr>\n",
       "    <tr>\n",
       "      <th>1</th>\n",
       "      <td>2013-01-06</td>\n",
       "      <td>0</td>\n",
       "    </tr>\n",
       "    <tr>\n",
       "      <th>2</th>\n",
       "      <td>2013-01-06</td>\n",
       "      <td>0</td>\n",
       "    </tr>\n",
       "    <tr>\n",
       "      <th>3</th>\n",
       "      <td>2013-01-06</td>\n",
       "      <td>0</td>\n",
       "    </tr>\n",
       "    <tr>\n",
       "      <th>4</th>\n",
       "      <td>2013-01-06</td>\n",
       "      <td>0</td>\n",
       "    </tr>\n",
       "  </tbody>\n",
       "</table>\n",
       "</div>"
      ],
      "text/plain": [
       "  pickup_datetime  minute_of_day\n",
       "0      2013-01-06              0\n",
       "1      2013-01-06              0\n",
       "2      2013-01-06              0\n",
       "3      2013-01-06              0\n",
       "4      2013-01-06              0"
      ]
     },
     "execution_count": 40,
     "metadata": {},
     "output_type": "execute_result"
    }
   ],
   "source": [
    "# Query using datetime functions from PostgreSQL\n",
    "sql = \"\"\"\n",
    "SELECT * FROM \n",
    " (\n",
    "  SELECT pickup_datetime, \n",
    "   60*EXTRACT(hour from pickup_datetime)+\n",
    "     EXTRACT(minute from pickup_datetime) AS minute_of_day\n",
    "  FROM taxi_trips\n",
    "  LIMIT 10000\n",
    " ) AS temporary\n",
    " ORDER BY minute_of_day;\n",
    "\"\"\"\n",
    "df2 = pd.read_sql_query(sql, engine, parse_dates = [\"pickup_datetime\"])\n",
    "df2.head()"
   ]
  },
  {
   "cell_type": "code",
   "execution_count": 50,
   "metadata": {
    "collapsed": false
   },
   "outputs": [
    {
     "name": "stdout",
     "output_type": "stream",
     "text": [
      "      pickup_datetime  hour_of_day  pickup_longitude  pickup_latitude\n",
      "0 2013-01-26 00:58:19            0          -74.0082          40.7145\n",
      "1 2013-01-22 00:26:27            0          -74.0042          40.7422\n",
      "2 2013-01-24 00:50:41            0          -73.9826          40.7539\n",
      "3 2013-01-22 00:27:00            0          -73.9811          40.7417\n",
      "4 2013-01-26 00:54:05            0          -73.9928          40.7396\n",
      "MINMAX Dates: 2013-01-01 00:00:00 2013-01-31 23:59:20\n"
     ]
    }
   ],
   "source": [
    "# Get 1 Million records with pickup location, hour-of-day\n",
    "# ordered by hour-of-day\n",
    "sql = \"\"\"\n",
    "SELECT * FROM \n",
    " (\n",
    "  SELECT pickup_datetime, \n",
    "   60*EXTRACT(hour from pickup_datetime) AS hour_of_day,\n",
    "   pickup_longitude,\n",
    "   pickup_latitude\n",
    "  FROM taxi_trips\n",
    "  LIMIT 5000000\n",
    " ) AS temporary\n",
    " ORDER BY hour_of_day;\n",
    "\"\"\"\n",
    "df2 = pd.read_sql_query(sql, engine, parse_dates = [\"pickup_datetime\"])\n",
    "print df2.head()\n",
    "print \"MINMAX Dates:\", df2['pickup_datetime'].min(), df2['pickup_datetime'].max()"
   ]
  },
  {
   "cell_type": "code",
   "execution_count": 51,
   "metadata": {
    "collapsed": false
   },
   "outputs": [
    {
     "name": "stdout",
     "output_type": "stream",
     "text": [
      "MINMAX Dates: 2013-01-01 00:00:00 2013-01-31 23:59:20\n"
     ]
    }
   ],
   "source": [
    "print \"MINMAX Dates:\", df2['pickup_datetime'].min(), df2['pickup_datetime'].max()"
   ]
  },
  {
   "cell_type": "code",
   "execution_count": 74,
   "metadata": {
    "collapsed": false,
    "scrolled": true
   },
   "outputs": [
    {
     "name": "stdout",
     "output_type": "stream",
     "text": [
      "201738 201738\n",
      "153593 355331\n",
      "120043 475374\n",
      "89898 565272\n",
      "65380 630652\n",
      "50458 681110\n",
      "97317 778427\n",
      "165461 943888\n",
      "208313 1152201\n",
      "220284 1372485\n",
      "217572 1590057\n",
      "226387 1816444\n",
      "240537 2056981\n",
      "247718 2304699\n",
      "256510 2561209\n",
      "247576 2808785\n",
      "213882 3022667\n",
      "247703 3270370\n",
      "314177 3584547\n",
      "316855 3901402\n",
      "290090 4191492\n",
      "283492 4474984\n",
      "283566 4758550\n",
      "241450 5000000\n"
     ]
    }
   ],
   "source": [
    "# Count up how many we have for each hour\n",
    "# (divide by 60 because we screwed it up earlier)\n",
    "tt = df2['hour_of_day'] / 60\n",
    "tally=0\n",
    "for hh in range(24):\n",
    "    w1 = (tt == hh)\n",
    "    tally += w1.sum()\n",
    "    print w1.sum(), tally"
   ]
  },
  {
   "cell_type": "code",
   "execution_count": 77,
   "metadata": {
    "collapsed": false,
    "scrolled": true
   },
   "outputs": [
    {
     "data": {
      "text/plain": [
       "4758550    40.7364\n",
       "4758551    40.7567\n",
       "4758552    40.7475\n",
       "4758553    40.7342\n",
       "4758554    40.7417\n",
       "Name: pickup_latitude, dtype: float64"
      ]
     },
     "execution_count": 77,
     "metadata": {},
     "output_type": "execute_result"
    }
   ],
   "source": [
    "df2['pickup_latitude'][w1].head()"
   ]
  },
  {
   "cell_type": "code",
   "execution_count": 128,
   "metadata": {
    "collapsed": true
   },
   "outputs": [],
   "source": [
    "def make_2dhist(lng, lat):\n",
    "    \"\"\"Make a 2d histogram from lat and long data\"\"\"\n",
    "    # Length of 1 degree longitude divided by length\n",
    "    # of 1 degree latitude (at latitude of NYC)\n",
    "    aspect_geo = 52.52 / 69.0 \n",
    "    \n",
    "    coord_bottom_left = [-74.021759, 40.698861]\n",
    "    coord_top_right = [-73.927689, 40.816927]\n",
    "    imwidth_miles = (coord_top_right[0] - coord_bottom_left[0]) * 52.52\n",
    "    imheight_miles = (coord_top_right[1] - coord_bottom_left[1]) * 69.0\n",
    "    npix_base = 800\n",
    "    npix = [npix_base, round(npix_base * imheight_miles / imwidth_miles)]\n",
    "##    print \"NPIX\", npix\n",
    "    \n",
    "    xmin = lng.min()\n",
    "    xmax = lng.max()\n",
    "    ymin = lat.min()\n",
    "    ymax = lat.max()\n",
    "    \n",
    "    print xmin, xmax, ymin, ymax\n",
    "    \n",
    "    imrange = [[coord_bottom_left[0], coord_top_right[0]],\n",
    "              [coord_bottom_left[1], coord_top_right[1]] ]\n",
    "    im,xedge,yedge = np.histogram2d(lng,lat,bins=npix, range=imrange)\n",
    "                                #range=[[-74.05,-73.95],[40.7,40.84]])\n",
    "                                #range=[[40.6,40.7],[-74.0,-73.5]])\n",
    "##    print \"im shape\", im.shape\n",
    "    #print xedge\n",
    "    im = im.transpose()\n",
    "    return im"
   ]
  },
  {
   "cell_type": "code",
   "execution_count": 129,
   "metadata": {
    "collapsed": false
   },
   "outputs": [
    {
     "name": "stdout",
     "output_type": "stream",
     "text": [
      "-74.5361 -71.3094 40.0333 41.4537\n",
      "-74.5655 -71.3085 40.05 41.4537\n",
      "-74.6 -70.3667 39.3609 41.4\n",
      "-74.9524 -72.4167 40.1168 41.104\n",
      "-74.6393 -73.3426 40.2667 41.6904\n",
      "-74.3298 -73.6591 40.5776 41.0691\n",
      "-74.2249 -72.8934 40.2759 41.0468\n",
      "-74.5862 -72.1 39.9798 41.7996\n",
      "-74.5292 -71.95 39.7935 41.0319\n",
      "-74.7667 -72.45 40.1667 41.2387\n",
      "-74.6469 -72.4096 40.3972 41.9991\n",
      "-74.36 -71.3333 40.1667 41.65\n",
      "-74.7113 -73.1 40.3422 41.5\n",
      "-74.7108 -70.6833 40.1 41.3155\n",
      "-74.8488 -72.4667 39.5971 41.55\n",
      "-74.6333 -70.5667 40.1333 41.6966\n",
      "-74.95 -71.3 40.2167 41.5333\n",
      "-74.6141 -71.3093 40.1 41.4667\n",
      "-74.5446 -70.5091 39.1738 41.4537\n",
      "-74.7833 -71.3 39.8904 41.5833\n",
      "-74.55 -71.0333 39.9611 41.4537\n",
      "-74.5 -71.3 39.4833 41.4537\n",
      "-74.9167 -71.305 40.1437 41.5333\n",
      "-74.9413 -71.3 39.6044 41.9333\n"
     ]
    }
   ],
   "source": [
    "# Loop through hours. For each hour of the day, create\n",
    "# a 2d histogram of \n",
    "#!!!!!!!!!! Watch divide by 60 -- correcting earlier error\n",
    "imlist = []\n",
    "for myhour in range(24):\n",
    "    w1 = (df2['hour_of_day'] / 60) == myhour\n",
    "\n",
    "    lng = df2['pickup_longitude'][w1]\n",
    "    lat = df2['pickup_latitude'][w1]\n",
    "    \n",
    "    w2 = (lat > 39.0) & (lat < 42.0) &\\\n",
    "        (lng > -75.0) & (lng < -70.0)\n",
    "    lng = lng[w2]\n",
    "    lat = lat[w2]\n",
    "    \n",
    "    im = make_2dhist(lng, lat)\n",
    "    imlist.append(imlist)\n"
   ]
  },
  {
   "cell_type": "code",
   "execution_count": null,
   "metadata": {
    "collapsed": false
   },
   "outputs": [],
   "source": [
    "plt.figure(figsize=(10,10))\n",
    "plt.imshow(np.log10(imlist[5]), origin = 'low', aspect=1.0, cmap='Greens', clim=(-8,.2))\n",
    "plt.xticks([])\n",
    "plt.yticks([])\n",
    "##plt.set_cmap(\"Green\")\n",
    "#im\n",
    "\n",
    "##im\n",
    "plt.savefig('test.pdf', bbox_inches='tight')"
   ]
  },
  {
   "cell_type": "code",
   "execution_count": 117,
   "metadata": {
    "collapsed": false
   },
   "outputs": [
    {
     "name": "stdout",
     "output_type": "stream",
     "text": [
      "1.95904139232 -inf\n"
     ]
    }
   ],
   "source": [
    "print np.max(np.log10(im)), np.min(np.log10(im))"
   ]
  },
  {
   "cell_type": "code",
   "execution_count": 95,
   "metadata": {
    "collapsed": false
   },
   "outputs": [
    {
     "data": {
      "image/png": "[encoded data removed]",
      "text/plain": [
       "<matplotlib.figure.Figure at 0x1144e0e50>"
      ]
     },
     "metadata": {},
     "output_type": "display_data"
    }
   ],
   "source": [
    "histo = plt.hist(lat, 50, range=(40.6,40.9))"
   ]
  },
  {
   "cell_type": "code",
   "execution_count": 98,
   "metadata": {
    "collapsed": false
   },
   "outputs": [
    {
     "data": {
      "image/png": "[encoded data removed]",
      "text/plain": [
       "<matplotlib.figure.Figure at 0x1152eec90>"
      ]
     },
     "metadata": {},
     "output_type": "display_data"
    }
   ],
   "source": [
    "histo = plt.hist(lng, 50, range=(-74.3,-73.5))"
   ]
  },
  {
   "cell_type": "code",
   "execution_count": null,
   "metadata": {
    "collapsed": true
   },
   "outputs": [],
   "source": []
  }
 ],
 "metadata": {
  "kernelspec": {
   "display_name": "Python 2",
   "language": "python",
   "name": "python2"
  },
  "language_info": {
   "codemirror_mode": {
    "name": "ipython",
    "version": 2
   },
   "file_extension": ".py",
   "mimetype": "text/x-python",
   "name": "python",
   "nbconvert_exporter": "python",
   "pygments_lexer": "ipython2",
   "version": "2.7.11"
  }
 },
 "nbformat": 4,
 "nbformat_minor": 0
}
